{
  "cells": [
    {
      "cell_type": "code",
      "execution_count": 1,
      "metadata": {
        "id": "h3Qc5zN_EBfl",
        "colab": {
          "base_uri": "https://localhost:8080/"
        },
        "outputId": "50646158-7ebf-439e-98be-f2dbb55bbfc5"
      },
      "outputs": [
        {
          "output_type": "stream",
          "name": "stdout",
          "text": [
            "Mounted at /content/gdrive\n"
          ]
        }
      ],
      "source": [
        "from google.colab import drive\n",
        "\n",
        "drive.mount('/content/gdrive', force_remount=True)"
      ]
    },
    {
      "cell_type": "code",
      "execution_count": 2,
      "metadata": {
        "colab": {
          "base_uri": "https://localhost:8080/"
        },
        "id": "IhfdnaEIEgpt",
        "outputId": "0dcb3627-6ab1-4f40-9f34-7790b70e4509"
      },
      "outputs": [
        {
          "output_type": "stream",
          "name": "stdout",
          "text": [
            "/content/gdrive/.shortcut-targets-by-id/16f9nXoTeh8KK8EltZTEP4Q38e0gcr6ne/IC_Leticia/Dataset\n"
          ]
        }
      ],
      "source": [
        "%cd gdrive/MyDrive/IC_Leticia/Dataset"
      ]
    },
    {
      "cell_type": "code",
      "execution_count": 3,
      "metadata": {
        "id": "Wv5aRRBdEtyK",
        "colab": {
          "base_uri": "https://localhost:8080/"
        },
        "outputId": "6f9a639f-04ee-4a17-d332-22e13ecaeb7f"
      },
      "outputs": [
        {
          "output_type": "stream",
          "name": "stdout",
          "text": [
            "Aquisição  GoEmotions  GoEmotions_pred.csv  seed_tweets.csv\n"
          ]
        }
      ],
      "source": [
        "!ls"
      ]
    },
    {
      "cell_type": "code",
      "execution_count": null,
      "metadata": {
        "id": "Mw6JH-gmEbPG"
      },
      "outputs": [],
      "source": [
        "!pip install -r \"GoEmotions/requirements.txt\""
      ]
    },
    {
      "cell_type": "code",
      "execution_count": 5,
      "metadata": {
        "id": "8nAZbQGlD_U6"
      },
      "outputs": [],
      "source": [
        "from transformers import BertTokenizer, BertForSequenceClassification, pipeline\n",
        "from pprint import pprint\n",
        "import pandas as pd\n",
        "\n",
        "#Folder path containing the fine-tuned model files\n",
        "model_path = 'GoEmotions/fine_tuned_model'\n",
        "\n",
        "model = BertForSequenceClassification.from_pretrained(model_path)\n",
        "tokenizer = BertTokenizer.from_pretrained(model_path)\n",
        "\n",
        "classifier = pipeline('text-classification', model=model, tokenizer=tokenizer, top_k=None)\n",
        "\n",
        "threshold = 0.3"
      ]
    },
    {
      "cell_type": "code",
      "execution_count": 6,
      "metadata": {
        "id": "auQjnumVGkmr"
      },
      "outputs": [],
      "source": [
        "df = pd.read_csv(\"seed_tweets.csv\",index_col=0)\n",
        "inputs = df[\"seedtweet\"].values.tolist()"
      ]
    },
    {
      "cell_type": "code",
      "source": [
        "df.head()"
      ],
      "metadata": {
        "colab": {
          "base_uri": "https://localhost:8080/",
          "height": 238
        },
        "id": "ALRu_jWZMRtA",
        "outputId": "02828c96-4ffe-4ac1-df7b-a627be34685b"
      },
      "execution_count": 7,
      "outputs": [
        {
          "output_type": "execute_result",
          "data": {
            "text/plain": [
              "                                               seedtweet\n",
              "index                                                   \n",
              "0       O Presidente @ArthurLira_ ,após ouvir a maior...\n",
              "1       Dentre outros fatores, amanhã votarei pela li...\n",
              "2       STF decide manter a prisão do Deputado @danie...\n",
              "3       O Conselho de Ética da Câmara vai começar a t...\n",
              "4       Viúvas da ditadura se arvoram contra o STF ap..."
            ],
            "text/html": [
              "\n",
              "  <div id=\"df-e03ba952-4162-4bb2-afe1-295fe04910aa\">\n",
              "    <div class=\"colab-df-container\">\n",
              "      <div>\n",
              "<style scoped>\n",
              "    .dataframe tbody tr th:only-of-type {\n",
              "        vertical-align: middle;\n",
              "    }\n",
              "\n",
              "    .dataframe tbody tr th {\n",
              "        vertical-align: top;\n",
              "    }\n",
              "\n",
              "    .dataframe thead th {\n",
              "        text-align: right;\n",
              "    }\n",
              "</style>\n",
              "<table border=\"1\" class=\"dataframe\">\n",
              "  <thead>\n",
              "    <tr style=\"text-align: right;\">\n",
              "      <th></th>\n",
              "      <th>seedtweet</th>\n",
              "    </tr>\n",
              "    <tr>\n",
              "      <th>index</th>\n",
              "      <th></th>\n",
              "    </tr>\n",
              "  </thead>\n",
              "  <tbody>\n",
              "    <tr>\n",
              "      <th>0</th>\n",
              "      <td>O Presidente @ArthurLira_ ,após ouvir a maior...</td>\n",
              "    </tr>\n",
              "    <tr>\n",
              "      <th>1</th>\n",
              "      <td>Dentre outros fatores, amanhã votarei pela li...</td>\n",
              "    </tr>\n",
              "    <tr>\n",
              "      <th>2</th>\n",
              "      <td>STF decide manter a prisão do Deputado @danie...</td>\n",
              "    </tr>\n",
              "    <tr>\n",
              "      <th>3</th>\n",
              "      <td>O Conselho de Ética da Câmara vai começar a t...</td>\n",
              "    </tr>\n",
              "    <tr>\n",
              "      <th>4</th>\n",
              "      <td>Viúvas da ditadura se arvoram contra o STF ap...</td>\n",
              "    </tr>\n",
              "  </tbody>\n",
              "</table>\n",
              "</div>\n",
              "      <button class=\"colab-df-convert\" onclick=\"convertToInteractive('df-e03ba952-4162-4bb2-afe1-295fe04910aa')\"\n",
              "              title=\"Convert this dataframe to an interactive table.\"\n",
              "              style=\"display:none;\">\n",
              "        \n",
              "  <svg xmlns=\"http://www.w3.org/2000/svg\" height=\"24px\"viewBox=\"0 0 24 24\"\n",
              "       width=\"24px\">\n",
              "    <path d=\"M0 0h24v24H0V0z\" fill=\"none\"/>\n",
              "    <path d=\"M18.56 5.44l.94 2.06.94-2.06 2.06-.94-2.06-.94-.94-2.06-.94 2.06-2.06.94zm-11 1L8.5 8.5l.94-2.06 2.06-.94-2.06-.94L8.5 2.5l-.94 2.06-2.06.94zm10 10l.94 2.06.94-2.06 2.06-.94-2.06-.94-.94-2.06-.94 2.06-2.06.94z\"/><path d=\"M17.41 7.96l-1.37-1.37c-.4-.4-.92-.59-1.43-.59-.52 0-1.04.2-1.43.59L10.3 9.45l-7.72 7.72c-.78.78-.78 2.05 0 2.83L4 21.41c.39.39.9.59 1.41.59.51 0 1.02-.2 1.41-.59l7.78-7.78 2.81-2.81c.8-.78.8-2.07 0-2.86zM5.41 20L4 18.59l7.72-7.72 1.47 1.35L5.41 20z\"/>\n",
              "  </svg>\n",
              "      </button>\n",
              "      \n",
              "  <style>\n",
              "    .colab-df-container {\n",
              "      display:flex;\n",
              "      flex-wrap:wrap;\n",
              "      gap: 12px;\n",
              "    }\n",
              "\n",
              "    .colab-df-convert {\n",
              "      background-color: #E8F0FE;\n",
              "      border: none;\n",
              "      border-radius: 50%;\n",
              "      cursor: pointer;\n",
              "      display: none;\n",
              "      fill: #1967D2;\n",
              "      height: 32px;\n",
              "      padding: 0 0 0 0;\n",
              "      width: 32px;\n",
              "    }\n",
              "\n",
              "    .colab-df-convert:hover {\n",
              "      background-color: #E2EBFA;\n",
              "      box-shadow: 0px 1px 2px rgba(60, 64, 67, 0.3), 0px 1px 3px 1px rgba(60, 64, 67, 0.15);\n",
              "      fill: #174EA6;\n",
              "    }\n",
              "\n",
              "    [theme=dark] .colab-df-convert {\n",
              "      background-color: #3B4455;\n",
              "      fill: #D2E3FC;\n",
              "    }\n",
              "\n",
              "    [theme=dark] .colab-df-convert:hover {\n",
              "      background-color: #434B5C;\n",
              "      box-shadow: 0px 1px 3px 1px rgba(0, 0, 0, 0.15);\n",
              "      filter: drop-shadow(0px 1px 2px rgba(0, 0, 0, 0.3));\n",
              "      fill: #FFFFFF;\n",
              "    }\n",
              "  </style>\n",
              "\n",
              "      <script>\n",
              "        const buttonEl =\n",
              "          document.querySelector('#df-e03ba952-4162-4bb2-afe1-295fe04910aa button.colab-df-convert');\n",
              "        buttonEl.style.display =\n",
              "          google.colab.kernel.accessAllowed ? 'block' : 'none';\n",
              "\n",
              "        async function convertToInteractive(key) {\n",
              "          const element = document.querySelector('#df-e03ba952-4162-4bb2-afe1-295fe04910aa');\n",
              "          const dataTable =\n",
              "            await google.colab.kernel.invokeFunction('convertToInteractive',\n",
              "                                                     [key], {});\n",
              "          if (!dataTable) return;\n",
              "\n",
              "          const docLinkHtml = 'Like what you see? Visit the ' +\n",
              "            '<a target=\"_blank\" href=https://colab.research.google.com/notebooks/data_table.ipynb>data table notebook</a>'\n",
              "            + ' to learn more about interactive tables.';\n",
              "          element.innerHTML = '';\n",
              "          dataTable['output_type'] = 'display_data';\n",
              "          await google.colab.output.renderOutput(dataTable, element);\n",
              "          const docLink = document.createElement('div');\n",
              "          docLink.innerHTML = docLinkHtml;\n",
              "          element.appendChild(docLink);\n",
              "        }\n",
              "      </script>\n",
              "    </div>\n",
              "  </div>\n",
              "  "
            ]
          },
          "metadata": {},
          "execution_count": 7
        }
      ]
    },
    {
      "cell_type": "code",
      "execution_count": 8,
      "metadata": {
        "id": "P96pe1eyGo1D"
      },
      "outputs": [],
      "source": [
        "output = classifier(inputs)\n",
        "predictions = []\n",
        "\n",
        "for prediction in output:\n",
        "\tpredictions.append(list(x for x in prediction if x['score']>= threshold))"
      ]
    },
    {
      "cell_type": "code",
      "source": [
        "pprint(predictions)"
      ],
      "metadata": {
        "colab": {
          "base_uri": "https://localhost:8080/"
        },
        "id": "YVPrTupRIGSB",
        "outputId": "6ee2aea7-d4a5-4cf4-ba5c-8b328923baf3"
      },
      "execution_count": 9,
      "outputs": [
        {
          "output_type": "stream",
          "name": "stdout",
          "text": [
            "[[{'label': 'aprovação', 'score': 0.5587501525878906}],\n",
            " [{'label': 'neutro', 'score': 0.6186824440956116}],\n",
            " [{'label': 'neutro', 'score': 0.9494044184684753}],\n",
            " [{'label': 'curiosidade', 'score': 0.3775072693824768}],\n",
            " [{'label': 'neutro', 'score': 0.36077290773391724}],\n",
            " [{'label': 'curiosidade', 'score': 0.5730711817741394}],\n",
            " [{'label': 'neutro', 'score': 0.9068360328674316}],\n",
            " [{'label': 'neutro', 'score': 0.6243780851364136}],\n",
            " [{'label': 'constrangimento', 'score': 0.5402638912200928}],\n",
            " [{'label': 'neutro', 'score': 0.6096152067184448}],\n",
            " [{'label': 'curiosidade', 'score': 0.5807187557220459}],\n",
            " [{'label': 'neutro', 'score': 0.6631458401679993}],\n",
            " [{'label': 'neutro', 'score': 0.8577451109886169}],\n",
            " [{'label': 'neutro', 'score': 0.9119518995285034}],\n",
            " [{'label': 'decepção', 'score': 0.46035119891166687}],\n",
            " [{'label': 'neutro', 'score': 0.7890118360519409}],\n",
            " [{'label': 'admiração', 'score': 0.37314921617507935}],\n",
            " [{'label': 'neutro', 'score': 0.6008589267730713}],\n",
            " [{'label': 'admiração', 'score': 0.3365543484687805}],\n",
            " [],\n",
            " [{'label': 'desaprovação', 'score': 0.6816696524620056}],\n",
            " [{'label': 'otimismo', 'score': 0.4443388283252716},\n",
            "  {'label': 'neutro', 'score': 0.32261407375335693}],\n",
            " [],\n",
            " [{'label': 'neutro', 'score': 0.4003738760948181}],\n",
            " [{'label': 'neutro', 'score': 0.3773648738861084}],\n",
            " [{'label': 'neutro', 'score': 0.9682728052139282}],\n",
            " [{'label': 'neutro', 'score': 0.3195524215698242}],\n",
            " [{'label': 'remorso', 'score': 0.729539692401886}],\n",
            " [{'label': 'gratidão', 'score': 0.3083724081516266}],\n",
            " [{'label': 'tristeza', 'score': 0.566826343536377}],\n",
            " [{'label': 'neutro', 'score': 0.39712101221084595}],\n",
            " [{'label': 'gratidão', 'score': 0.4518633484840393}],\n",
            " [{'label': 'neutro', 'score': 0.9496901035308838}],\n",
            " [{'label': 'remorso', 'score': 0.8188226819038391}],\n",
            " [{'label': 'curiosidade', 'score': 0.8557601571083069}],\n",
            " [],\n",
            " [{'label': 'desaprovação', 'score': 0.5443066954612732}],\n",
            " [{'label': 'admiração', 'score': 0.6776630878448486}],\n",
            " [{'label': 'neutro', 'score': 0.30396613478660583}],\n",
            " [{'label': 'raiva', 'score': 0.3299943208694458}],\n",
            " [{'label': 'neutro', 'score': 0.3946011960506439}],\n",
            " [{'label': 'neutro', 'score': 0.4510004222393036}],\n",
            " [{'label': 'neutro', 'score': 0.9588064551353455}],\n",
            " [{'label': 'neutro', 'score': 0.5007426142692566}],\n",
            " [{'label': 'neutro', 'score': 0.36526528000831604}],\n",
            " [{'label': 'neutro', 'score': 0.7199269533157349}],\n",
            " [{'label': 'aborrecimento', 'score': 0.374777227640152}],\n",
            " [{'label': 'desaprovação', 'score': 0.322672963142395}],\n",
            " [{'label': 'nojo', 'score': 0.4344405233860016}],\n",
            " [{'label': 'desejo', 'score': 0.33104208111763}],\n",
            " [{'label': 'otimismo', 'score': 0.803974986076355}],\n",
            " [{'label': 'neutro', 'score': 0.8003323078155518}],\n",
            " [{'label': 'desaprovação', 'score': 0.6546282172203064}],\n",
            " [{'label': 'aprovação', 'score': 0.37541016936302185}],\n",
            " [{'label': 'neutro', 'score': 0.5040810704231262}],\n",
            " [{'label': 'curiosidade', 'score': 0.39628955721855164}],\n",
            " [{'label': 'neutro', 'score': 0.7631034851074219}],\n",
            " [{'label': 'otimismo', 'score': 0.38686230778694153}],\n",
            " [{'label': 'diversão', 'score': 0.9245578646659851}],\n",
            " [{'label': 'neutro', 'score': 0.7465007305145264}],\n",
            " [{'label': 'otimismo', 'score': 0.3365599811077118}],\n",
            " [{'label': 'neutro', 'score': 0.5917066335678101}],\n",
            " [{'label': 'otimismo', 'score': 0.8721050024032593}],\n",
            " [{'label': 'neutro', 'score': 0.7628145217895508}],\n",
            " [{'label': 'curiosidade', 'score': 0.6524209380149841}],\n",
            " [{'label': 'neutro', 'score': 0.7960188984870911}],\n",
            " [{'label': 'curiosidade', 'score': 0.7246333360671997}],\n",
            " [{'label': 'neutro', 'score': 0.4348629117012024}],\n",
            " [{'label': 'tristeza', 'score': 0.6648038625717163}],\n",
            " [{'label': 'neutro', 'score': 0.49558964371681213}],\n",
            " [{'label': 'raiva', 'score': 0.33185574412345886}],\n",
            " [{'label': 'desaprovação', 'score': 0.3964826166629791}],\n",
            " [{'label': 'neutro', 'score': 0.4988705515861511}],\n",
            " [{'label': 'neutro', 'score': 0.6702767014503479}],\n",
            " [{'label': 'gratidão', 'score': 0.9299262166023254}],\n",
            " [{'label': 'curiosidade', 'score': 0.6754868626594543}],\n",
            " [{'label': 'curiosidade', 'score': 0.34289994835853577}],\n",
            " [],\n",
            " [{'label': 'curiosidade', 'score': 0.3939700126647949}],\n",
            " [{'label': 'alegria', 'score': 0.6540133357048035}]]\n"
          ]
        }
      ]
    },
    {
      "cell_type": "code",
      "source": [
        "emotions = []\n",
        "scores = []\n",
        "for row in predictions:\n",
        "  if len(row)>0:\n",
        "    first_result = row[0]\n",
        "    print(\"Label: \",first_result.get(\"label\"),\" - Scores:\",first_result.get(\"score\"))\n",
        "    emotions.append(first_result.get(\"label\"))\n",
        "    scores.append(first_result.get(\"score\"))\n",
        "  else:\n",
        "    print(\"Nan\")\n",
        "    emotions.append(\"NaN\")\n",
        "    scores.append(0)\n",
        "  "
      ],
      "metadata": {
        "colab": {
          "base_uri": "https://localhost:8080/"
        },
        "id": "OIVkdqGaH2VO",
        "outputId": "28094923-02e1-46f0-8904-2a44cf82cf15"
      },
      "execution_count": 10,
      "outputs": [
        {
          "output_type": "stream",
          "name": "stdout",
          "text": [
            "Label:  aprovação  - Scores: 0.5587501525878906\n",
            "Label:  neutro  - Scores: 0.6186824440956116\n",
            "Label:  neutro  - Scores: 0.9494044184684753\n",
            "Label:  curiosidade  - Scores: 0.3775072693824768\n",
            "Label:  neutro  - Scores: 0.36077290773391724\n",
            "Label:  curiosidade  - Scores: 0.5730711817741394\n",
            "Label:  neutro  - Scores: 0.9068360328674316\n",
            "Label:  neutro  - Scores: 0.6243780851364136\n",
            "Label:  constrangimento  - Scores: 0.5402638912200928\n",
            "Label:  neutro  - Scores: 0.6096152067184448\n",
            "Label:  curiosidade  - Scores: 0.5807187557220459\n",
            "Label:  neutro  - Scores: 0.6631458401679993\n",
            "Label:  neutro  - Scores: 0.8577451109886169\n",
            "Label:  neutro  - Scores: 0.9119518995285034\n",
            "Label:  decepção  - Scores: 0.46035119891166687\n",
            "Label:  neutro  - Scores: 0.7890118360519409\n",
            "Label:  admiração  - Scores: 0.37314921617507935\n",
            "Label:  neutro  - Scores: 0.6008589267730713\n",
            "Label:  admiração  - Scores: 0.3365543484687805\n",
            "Nan\n",
            "Label:  desaprovação  - Scores: 0.6816696524620056\n",
            "Label:  otimismo  - Scores: 0.4443388283252716\n",
            "Nan\n",
            "Label:  neutro  - Scores: 0.4003738760948181\n",
            "Label:  neutro  - Scores: 0.3773648738861084\n",
            "Label:  neutro  - Scores: 0.9682728052139282\n",
            "Label:  neutro  - Scores: 0.3195524215698242\n",
            "Label:  remorso  - Scores: 0.729539692401886\n",
            "Label:  gratidão  - Scores: 0.3083724081516266\n",
            "Label:  tristeza  - Scores: 0.566826343536377\n",
            "Label:  neutro  - Scores: 0.39712101221084595\n",
            "Label:  gratidão  - Scores: 0.4518633484840393\n",
            "Label:  neutro  - Scores: 0.9496901035308838\n",
            "Label:  remorso  - Scores: 0.8188226819038391\n",
            "Label:  curiosidade  - Scores: 0.8557601571083069\n",
            "Nan\n",
            "Label:  desaprovação  - Scores: 0.5443066954612732\n",
            "Label:  admiração  - Scores: 0.6776630878448486\n",
            "Label:  neutro  - Scores: 0.30396613478660583\n",
            "Label:  raiva  - Scores: 0.3299943208694458\n",
            "Label:  neutro  - Scores: 0.3946011960506439\n",
            "Label:  neutro  - Scores: 0.4510004222393036\n",
            "Label:  neutro  - Scores: 0.9588064551353455\n",
            "Label:  neutro  - Scores: 0.5007426142692566\n",
            "Label:  neutro  - Scores: 0.36526528000831604\n",
            "Label:  neutro  - Scores: 0.7199269533157349\n",
            "Label:  aborrecimento  - Scores: 0.374777227640152\n",
            "Label:  desaprovação  - Scores: 0.322672963142395\n",
            "Label:  nojo  - Scores: 0.4344405233860016\n",
            "Label:  desejo  - Scores: 0.33104208111763\n",
            "Label:  otimismo  - Scores: 0.803974986076355\n",
            "Label:  neutro  - Scores: 0.8003323078155518\n",
            "Label:  desaprovação  - Scores: 0.6546282172203064\n",
            "Label:  aprovação  - Scores: 0.37541016936302185\n",
            "Label:  neutro  - Scores: 0.5040810704231262\n",
            "Label:  curiosidade  - Scores: 0.39628955721855164\n",
            "Label:  neutro  - Scores: 0.7631034851074219\n",
            "Label:  otimismo  - Scores: 0.38686230778694153\n",
            "Label:  diversão  - Scores: 0.9245578646659851\n",
            "Label:  neutro  - Scores: 0.7465007305145264\n",
            "Label:  otimismo  - Scores: 0.3365599811077118\n",
            "Label:  neutro  - Scores: 0.5917066335678101\n",
            "Label:  otimismo  - Scores: 0.8721050024032593\n",
            "Label:  neutro  - Scores: 0.7628145217895508\n",
            "Label:  curiosidade  - Scores: 0.6524209380149841\n",
            "Label:  neutro  - Scores: 0.7960188984870911\n",
            "Label:  curiosidade  - Scores: 0.7246333360671997\n",
            "Label:  neutro  - Scores: 0.4348629117012024\n",
            "Label:  tristeza  - Scores: 0.6648038625717163\n",
            "Label:  neutro  - Scores: 0.49558964371681213\n",
            "Label:  raiva  - Scores: 0.33185574412345886\n",
            "Label:  desaprovação  - Scores: 0.3964826166629791\n",
            "Label:  neutro  - Scores: 0.4988705515861511\n",
            "Label:  neutro  - Scores: 0.6702767014503479\n",
            "Label:  gratidão  - Scores: 0.9299262166023254\n",
            "Label:  curiosidade  - Scores: 0.6754868626594543\n",
            "Label:  curiosidade  - Scores: 0.34289994835853577\n",
            "Nan\n",
            "Label:  curiosidade  - Scores: 0.3939700126647949\n",
            "Label:  alegria  - Scores: 0.6540133357048035\n"
          ]
        }
      ]
    },
    {
      "cell_type": "code",
      "source": [
        "df[\"emotion\"] = emotions\n",
        "df[\"score\"] = scores"
      ],
      "metadata": {
        "id": "MgbiCPjEIgp2"
      },
      "execution_count": 11,
      "outputs": []
    },
    {
      "cell_type": "code",
      "source": [
        "df.head()"
      ],
      "metadata": {
        "colab": {
          "base_uri": "https://localhost:8080/",
          "height": 238
        },
        "id": "VzWEGa9ULiKJ",
        "outputId": "afa4a39d-2c58-4706-fe35-d4a711a052b2"
      },
      "execution_count": 12,
      "outputs": [
        {
          "output_type": "execute_result",
          "data": {
            "text/plain": [
              "                                               seedtweet      emotion  \\\n",
              "index                                                                   \n",
              "0       O Presidente @ArthurLira_ ,após ouvir a maior...    aprovação   \n",
              "1       Dentre outros fatores, amanhã votarei pela li...       neutro   \n",
              "2       STF decide manter a prisão do Deputado @danie...       neutro   \n",
              "3       O Conselho de Ética da Câmara vai começar a t...  curiosidade   \n",
              "4       Viúvas da ditadura se arvoram contra o STF ap...       neutro   \n",
              "\n",
              "          score  \n",
              "index            \n",
              "0      0.558750  \n",
              "1      0.618682  \n",
              "2      0.949404  \n",
              "3      0.377507  \n",
              "4      0.360773  "
            ],
            "text/html": [
              "\n",
              "  <div id=\"df-67c17459-e58a-46d1-b39d-080c2c020111\">\n",
              "    <div class=\"colab-df-container\">\n",
              "      <div>\n",
              "<style scoped>\n",
              "    .dataframe tbody tr th:only-of-type {\n",
              "        vertical-align: middle;\n",
              "    }\n",
              "\n",
              "    .dataframe tbody tr th {\n",
              "        vertical-align: top;\n",
              "    }\n",
              "\n",
              "    .dataframe thead th {\n",
              "        text-align: right;\n",
              "    }\n",
              "</style>\n",
              "<table border=\"1\" class=\"dataframe\">\n",
              "  <thead>\n",
              "    <tr style=\"text-align: right;\">\n",
              "      <th></th>\n",
              "      <th>seedtweet</th>\n",
              "      <th>emotion</th>\n",
              "      <th>score</th>\n",
              "    </tr>\n",
              "    <tr>\n",
              "      <th>index</th>\n",
              "      <th></th>\n",
              "      <th></th>\n",
              "      <th></th>\n",
              "    </tr>\n",
              "  </thead>\n",
              "  <tbody>\n",
              "    <tr>\n",
              "      <th>0</th>\n",
              "      <td>O Presidente @ArthurLira_ ,após ouvir a maior...</td>\n",
              "      <td>aprovação</td>\n",
              "      <td>0.558750</td>\n",
              "    </tr>\n",
              "    <tr>\n",
              "      <th>1</th>\n",
              "      <td>Dentre outros fatores, amanhã votarei pela li...</td>\n",
              "      <td>neutro</td>\n",
              "      <td>0.618682</td>\n",
              "    </tr>\n",
              "    <tr>\n",
              "      <th>2</th>\n",
              "      <td>STF decide manter a prisão do Deputado @danie...</td>\n",
              "      <td>neutro</td>\n",
              "      <td>0.949404</td>\n",
              "    </tr>\n",
              "    <tr>\n",
              "      <th>3</th>\n",
              "      <td>O Conselho de Ética da Câmara vai começar a t...</td>\n",
              "      <td>curiosidade</td>\n",
              "      <td>0.377507</td>\n",
              "    </tr>\n",
              "    <tr>\n",
              "      <th>4</th>\n",
              "      <td>Viúvas da ditadura se arvoram contra o STF ap...</td>\n",
              "      <td>neutro</td>\n",
              "      <td>0.360773</td>\n",
              "    </tr>\n",
              "  </tbody>\n",
              "</table>\n",
              "</div>\n",
              "      <button class=\"colab-df-convert\" onclick=\"convertToInteractive('df-67c17459-e58a-46d1-b39d-080c2c020111')\"\n",
              "              title=\"Convert this dataframe to an interactive table.\"\n",
              "              style=\"display:none;\">\n",
              "        \n",
              "  <svg xmlns=\"http://www.w3.org/2000/svg\" height=\"24px\"viewBox=\"0 0 24 24\"\n",
              "       width=\"24px\">\n",
              "    <path d=\"M0 0h24v24H0V0z\" fill=\"none\"/>\n",
              "    <path d=\"M18.56 5.44l.94 2.06.94-2.06 2.06-.94-2.06-.94-.94-2.06-.94 2.06-2.06.94zm-11 1L8.5 8.5l.94-2.06 2.06-.94-2.06-.94L8.5 2.5l-.94 2.06-2.06.94zm10 10l.94 2.06.94-2.06 2.06-.94-2.06-.94-.94-2.06-.94 2.06-2.06.94z\"/><path d=\"M17.41 7.96l-1.37-1.37c-.4-.4-.92-.59-1.43-.59-.52 0-1.04.2-1.43.59L10.3 9.45l-7.72 7.72c-.78.78-.78 2.05 0 2.83L4 21.41c.39.39.9.59 1.41.59.51 0 1.02-.2 1.41-.59l7.78-7.78 2.81-2.81c.8-.78.8-2.07 0-2.86zM5.41 20L4 18.59l7.72-7.72 1.47 1.35L5.41 20z\"/>\n",
              "  </svg>\n",
              "      </button>\n",
              "      \n",
              "  <style>\n",
              "    .colab-df-container {\n",
              "      display:flex;\n",
              "      flex-wrap:wrap;\n",
              "      gap: 12px;\n",
              "    }\n",
              "\n",
              "    .colab-df-convert {\n",
              "      background-color: #E8F0FE;\n",
              "      border: none;\n",
              "      border-radius: 50%;\n",
              "      cursor: pointer;\n",
              "      display: none;\n",
              "      fill: #1967D2;\n",
              "      height: 32px;\n",
              "      padding: 0 0 0 0;\n",
              "      width: 32px;\n",
              "    }\n",
              "\n",
              "    .colab-df-convert:hover {\n",
              "      background-color: #E2EBFA;\n",
              "      box-shadow: 0px 1px 2px rgba(60, 64, 67, 0.3), 0px 1px 3px 1px rgba(60, 64, 67, 0.15);\n",
              "      fill: #174EA6;\n",
              "    }\n",
              "\n",
              "    [theme=dark] .colab-df-convert {\n",
              "      background-color: #3B4455;\n",
              "      fill: #D2E3FC;\n",
              "    }\n",
              "\n",
              "    [theme=dark] .colab-df-convert:hover {\n",
              "      background-color: #434B5C;\n",
              "      box-shadow: 0px 1px 3px 1px rgba(0, 0, 0, 0.15);\n",
              "      filter: drop-shadow(0px 1px 2px rgba(0, 0, 0, 0.3));\n",
              "      fill: #FFFFFF;\n",
              "    }\n",
              "  </style>\n",
              "\n",
              "      <script>\n",
              "        const buttonEl =\n",
              "          document.querySelector('#df-67c17459-e58a-46d1-b39d-080c2c020111 button.colab-df-convert');\n",
              "        buttonEl.style.display =\n",
              "          google.colab.kernel.accessAllowed ? 'block' : 'none';\n",
              "\n",
              "        async function convertToInteractive(key) {\n",
              "          const element = document.querySelector('#df-67c17459-e58a-46d1-b39d-080c2c020111');\n",
              "          const dataTable =\n",
              "            await google.colab.kernel.invokeFunction('convertToInteractive',\n",
              "                                                     [key], {});\n",
              "          if (!dataTable) return;\n",
              "\n",
              "          const docLinkHtml = 'Like what you see? Visit the ' +\n",
              "            '<a target=\"_blank\" href=https://colab.research.google.com/notebooks/data_table.ipynb>data table notebook</a>'\n",
              "            + ' to learn more about interactive tables.';\n",
              "          element.innerHTML = '';\n",
              "          dataTable['output_type'] = 'display_data';\n",
              "          await google.colab.output.renderOutput(dataTable, element);\n",
              "          const docLink = document.createElement('div');\n",
              "          docLink.innerHTML = docLinkHtml;\n",
              "          element.appendChild(docLink);\n",
              "        }\n",
              "      </script>\n",
              "    </div>\n",
              "  </div>\n",
              "  "
            ]
          },
          "metadata": {},
          "execution_count": 12
        }
      ]
    },
    {
      "cell_type": "code",
      "execution_count": 13,
      "metadata": {
        "id": "vnie1NJRGsHc"
      },
      "outputs": [],
      "source": [
        "#df = pd.DataFrame(df, reset_index=True, columns=[\"predicoes\"])\n",
        "df.to_csv(\"GoEmotions_pred.csv\")"
      ]
    }
  ],
  "metadata": {
    "colab": {
      "provenance": []
    },
    "gpuClass": "standard",
    "kernelspec": {
      "display_name": "Python 3",
      "name": "python3"
    },
    "language_info": {
      "name": "python"
    }
  },
  "nbformat": 4,
  "nbformat_minor": 0
}